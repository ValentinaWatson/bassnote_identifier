{
 "cells": [
  {
   "cell_type": "markdown",
   "metadata": {},
   "source": [
    "Code is based loosely off of another classic computer vision program: [pip install opencv-python numpy matplotlib scikit-learn imutils](https://pyimagesearch.com/2017/02/13/recognizing-digits-with-opencv-and-python/)"
   ]
  },
  {
   "cell_type": "markdown",
   "metadata": {},
   "source": [
    "First we must import all necessary libraries"
   ]
  },
  {
   "cell_type": "code",
   "execution_count": 117,
   "metadata": {},
   "outputs": [],
   "source": [
    "# starting venv\n",
    "# .\\cvvenv\\Scripts\\activate\n",
    "\n",
    "# imports\n",
    "import cv2\n",
    "import imutils\n",
    "import matplotlib.pyplot as plt\n",
    "import numpy as np"
   ]
  },
  {
   "cell_type": "markdown",
   "metadata": {},
   "source": [
    "First we define the dictionary of note positions so we can identify each note below, on, and above the staff"
   ]
  },
  {
   "cell_type": "markdown",
   "metadata": {},
   "source": [
    "Eventually, we hope to get an array extracted from an image that we can compare with our dictionary"
   ]
  },
  {
   "cell_type": "markdown",
   "metadata": {},
   "source": [
    "Addendum: I later went with a different method of identifying notes as that felt more intuitive but this dictionary was integral to setting up my thought process of approaching this project"
   ]
  },
  {
   "cell_type": "code",
   "execution_count": 118,
   "metadata": {},
   "outputs": [],
   "source": [
    "below = 0\n",
    "staff = 0\n",
    "above = 0\n",
    "LINE = 1\n",
    "SPACE = 2\n",
    "\n",
    "NOTES_LOOKUP = {\n",
    "    (LINE, below, staff, staff, staff, staff, staff, above, above): \"C_low\",\n",
    "    (SPACE, below, staff, staff, staff, staff, staff, above, above): \"D_low\",\n",
    "    (below, LINE, staff, staff, staff, staff, staff, above, above): \"E_low\",\n",
    "    (below, SPACE, staff, staff, staff, staff, staff, above, above): \"F_low\",\n",
    "\n",
    "    (below, below, LINE, staff, staff, staff, staff, above, above): \"G_low\",\n",
    "    (below, below, SPACE, staff, staff, staff, staff, above, above): \"A_mid\",\n",
    "    (below, below, staff, LINE, staff, staff, staff, above, above): \"B_mid\",\n",
    "    (below, below, staff, SPACE, staff, staff, staff, above, above): \"C_mid\",\n",
    "    (below, below, staff, staff, LINE, staff, staff, above, above): \"D_mid\",\n",
    "    (below, below, staff, staff, SPACE, staff, staff, above, above): \"E_mid\",    \n",
    "    (below, below, staff, staff, staff, LINE, staff, above, above): \"F_mid\",\n",
    "    (below, below, staff, staff, staff, SPACE, staff, above, above): \"G_mid\",\n",
    "    (below, below, staff, staff, staff, staff, LINE, above, above): \"A_high\",\n",
    "    (below, below, staff, staff, staff, staff, SPACE, above, above): \"B_high\",\n",
    "      \n",
    "    (below, below, staff, staff, staff, staff, staff, LINE, above): \"C_high\",\n",
    "    (below, below, staff, staff, staff, staff, staff, SPACE, above): \"D_high\",\n",
    "    (below, below, staff, staff, staff, staff, staff, above, LINE): \"E_high\",\n",
    "    (below, below, staff, staff, staff, staff, staff, above, SPACE): \"F_high\" \n",
    "\n",
    "}"
   ]
  },
  {
   "cell_type": "markdown",
   "metadata": {},
   "source": [
    "Let's load an example image and conduct some preprocessing"
   ]
  },
  {
   "cell_type": "code",
   "execution_count": 119,
   "metadata": {},
   "outputs": [
    {
     "data": {
      "image/png": "[encoded data removed]",
      "text/plain": [
       "<Figure size 1000x500 with 1 Axes>"
      ]
     },
     "metadata": {},
     "output_type": "display_data"
    }
   ],
   "source": [
    "image = cv2.imread(\"example.jpg\")\n",
    "\n",
    "image = imutils.resize(image, height=500)\n",
    "gray = cv2.cvtColor(image, cv2.COLOR_BGR2GRAY)\n",
    "\n",
    "plt.figure(figsize=(10, 5))\n",
    "plt.subplot(1, 3, 1), plt.imshow(gray, cmap='gray'), plt.title(\"Gray\")\n",
    "plt.show()"
   ]
  },
  {
   "cell_type": "markdown",
   "metadata": {},
   "source": [
    "Now we want to draw a bounding box around the single note and all staff lines including ledgers if applicable"
   ]
  },
  {
   "cell_type": "markdown",
   "metadata": {},
   "source": [
    "For reference: this is how we will identify our staff lines which are just horizontal lines: https://stackoverflow.com/questions/7227074/horizontal-line-detection-with-opencv"
   ]
  },
  {
   "cell_type": "code",
   "execution_count": 120,
   "metadata": {},
   "outputs": [
    {
     "data": {
      "text/plain": [
       "-1"
      ]
     },
     "execution_count": 120,
     "metadata": {},
     "output_type": "execute_result"
    }
   ],
   "source": [
    "thresh = cv2.threshold(gray, 0, 255, cv2.THRESH_BINARY_INV + cv2.THRESH_OTSU)[1]\n",
    "result = image.copy()\n",
    "\n",
    "# line detection\n",
    "horizontal_kernel = cv2.getStructuringElement(cv2.MORPH_RECT, (40,1))\n",
    "detect_horizontal = cv2.morphologyEx(thresh, cv2.MORPH_OPEN, horizontal_kernel, iterations=2)\n",
    "line_cnts = cv2.findContours(detect_horizontal, cv2.RETR_EXTERNAL, cv2.CHAIN_APPROX_SIMPLE)\n",
    "line_cnts = line_cnts[0] if len(line_cnts) == 2 else line_cnts[1]\n",
    "for c in line_cnts:\n",
    "    cv2.drawContours(result, [c], -1, (36,255,12), 2)\n",
    "\n",
    "cv2.imshow('result', result)\n",
    "cv2.waitKey()"
   ]
  },
  {
   "cell_type": "markdown",
   "metadata": {},
   "source": [
    "Sort lines by top to bottom"
   ]
  },
  {
   "cell_type": "code",
   "execution_count": 121,
   "metadata": {},
   "outputs": [
    {
     "name": "stdout",
     "output_type": "stream",
     "text": [
      "[('line 5', 126), ('line 4', 192), ('line 3', 257), ('line 2', 323), ('line 1', 388)]\n"
     ]
    }
   ],
   "source": [
    "staff_lines = []\n",
    "\n",
    "# gets the 5 widest lines\n",
    "line_counter = 1\n",
    "for c in line_cnts:\n",
    "    # get bounding box for each individual cnts and append\n",
    "    x, y, w, h = cv2.boundingRect(c)\n",
    "    staff_lines.append((\"line \" + str(line_counter), y))\n",
    "    line_counter += 1\n",
    "\n",
    "# top to bottom\n",
    "staff_lines.sort(key=lambda item: item[1])\n",
    "print(staff_lines)"
   ]
  },
  {
   "cell_type": "markdown",
   "metadata": {},
   "source": [
    "Now that we have the lines and their y-axis we can now find the note head"
   ]
  },
  {
   "cell_type": "code",
   "execution_count": null,
   "metadata": {},
   "outputs": [],
   "source": [
    "removed_lines = cv2.subtract(thresh, detect_horizontal)\n",
    "\n",
    "just_head = cv2.dilate(removed_lines, cv2.getStructuringElement(cv2.MORPH_ELLIPSE, (15,15)))\n",
    "contours = cv2.findContours(just_head, cv2.RETR_EXTERNAL, cv2.CHAIN_APPROX_SIMPLE)\n",
    "\n",
    "note_head = max(contours, key=cv2.contourArea)\n",
    "\n",
    "result = image.copy()\n",
    "\n",
    "x, y, w, h = cv2.boundingRect(note_head)\n",
    "note_center = y + h/2\n",
    "note_top = y\n",
    "note_bottom = y + h\n",
    "\n",
    "top_left = (x, y)\n",
    "bottom_right = (x+w, y+h)\n",
    "green = (0, 255, 0)\n",
    "\n",
    "# https://docs.opencv.org/3.1.0/dd/d49/tutorial_py_contour_features.html\n",
    "cv2.rectangle(result, top_left, bottom_right, green, 2)\n",
    "\n",
    "note_with_staff = image[y:y+h, x:x+w]\n",
    "\n",
    "cv2.imshow(\"result\", result)\n",
    "cv2.waitKey(0)\n",
    "cv2.destroyAllWindows()"
   ]
  },
  {
   "cell_type": "markdown",
   "metadata": {},
   "source": [
    "Now that we have the staff lines and the note head detected, we can run comparison "
   ]
  },
  {
   "cell_type": "code",
   "execution_count": 125,
   "metadata": {},
   "outputs": [
    {
     "name": "stdout",
     "output_type": "stream",
     "text": [
      "Note: D\n"
     ]
    }
   ],
   "source": [
    "# print(staff_lines)\n",
    "# print(note_center)\n",
    "\n",
    "intersection_list = []\n",
    "\n",
    "line_note = False\n",
    "space_note = False\n",
    "\n",
    "for line in staff_lines:\n",
    "    min_threshhold = note_center - 5\n",
    "    max_threshhold = note_center + 5\n",
    "    if max_threshhold >= line[1] >= min_threshhold:\n",
    "        line_note = True\n",
    "        intersection_list.append(line[0])\n",
    "        break\n",
    "\n",
    "# if not a line note, see if it's a space note\n",
    "if line_note == False:\n",
    "    for i in range(len(staff_lines)-1):\n",
    "        min_top_threshhold = note_top - 5\n",
    "        max_top_threshhold = note_top + 5\n",
    "        min_bottom_threshhold = note_bottom - 5\n",
    "        max_bottom_threshhold = note_bottom + 5\n",
    "        top_line_analysis = max_top_threshhold >= line[i] >= min_top_threshhold  \n",
    "        bottom_line_analysis = min_bottom_threshhold >= line[i+1] >= min_top_threshhold      \n",
    "        if (top_line_analysis == True) and (bottom_line_analysis):\n",
    "            line_note = True\n",
    "            intersection_list.append(line[i])\n",
    "            intersection_list.append(line[i+1])\n",
    "            break\n",
    "\n",
    "# note is on a line\n",
    "if line_note == True:\n",
    "    if \"line 1\" in intersection_list:\n",
    "        print(\"Note: A\")\n",
    "    if \"line 2\" in intersection_list:\n",
    "        print(\"Note: F\")\n",
    "    if \"line 3\" in intersection_list:\n",
    "        print(\"Note: D\")\n",
    "    if \"line 4\" in intersection_list:\n",
    "        print(\"Note: B\")\n",
    "    if \"line 5\" in intersection_list:\n",
    "        print(\"Note: G\")\n",
    "\n",
    "# note is in a space\n",
    "if line_note == False:\n",
    "    if (\"line 1\" in intersection_list) and (\"line 2\" in intersection_list):\n",
    "        print(\"Note: G\")\n",
    "    if (\"line 2\" in intersection_list) and (\"line 3\" in intersection_list):\n",
    "        print(\"Note: E\")\n",
    "    if (\"line 3\" in intersection_list) and (\"line 4\" in intersection_list):\n",
    "        print(\"Note: C\")\n",
    "    if (\"line 4\" in intersection_list) and (\"line 5\" in intersection_list):\n",
    "        print(\"Note: A\")"
   ]
  }
 ],
 "metadata": {
  "kernelspec": {
   "display_name": "cvvenv",
   "language": "python",
   "name": "cvvenv"
  },
  "language_info": {
   "codemirror_mode": {
    "name": "ipython",
    "version": 3
   },
   "file_extension": ".py",
   "mimetype": "text/x-python",
   "name": "python",
   "nbconvert_exporter": "python",
   "pygments_lexer": "ipython3",
   "version": "3.13.3"
  }
 },
 "nbformat": 4,
 "nbformat_minor": 2
}
